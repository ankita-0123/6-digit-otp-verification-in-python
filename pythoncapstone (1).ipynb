{
 "cells": [
  {
   "cell_type": "code",
   "execution_count": 3,
   "id": "eaf06116-34f0-45e0-a7f9-43b0f925e328",
   "metadata": {},
   "outputs": [],
   "source": [
    "import smtplib\n",
    "import random\n"
   ]
  },
  {
   "cell_type": "code",
   "execution_count": 4,
   "id": "f5987e48-478c-401c-9011-4b142ec5b901",
   "metadata": {},
   "outputs": [],
   "source": [
    "def generate_otp():\n",
    "    return str(random.randint(100000, 999999))\n"
   ]
  },
  {
   "cell_type": "code",
   "execution_count": 5,
   "id": "1cb3fe70-e60d-48ed-869e-a00818b98eaf",
   "metadata": {},
   "outputs": [],
   "source": [
    "def send_otp(email, otp):\n",
    "    sender_email = \"paramitapatrapragyan@gmail.com\" \n",
    "    sender_password = \"vqtz vqcq lvsj mowf\"          \n",
    "    subject = \"Your OTP Code\"\n",
    "    body = f\"Subject: {subject}\\n\\nYour OTP code is {otp}. It is valid for 5 minutes.\"\n",
    "\n",
    "    try:\n",
    "        server = smtplib.SMTP('smtp.gmail.com', 587)\n",
    "        server.starttls()\n",
    "        server.login(sender_email, sender_password)\n",
    "        server.sendmail(sender_email, email, body)\n",
    "        print(\"OTP sent successfully!\")\n",
    "    except Exception as e:\n",
    "        print(f\"Failed to send OTP: {e}\")\n"
   ]
  },
  {
   "cell_type": "code",
   "execution_count": 6,
   "id": "d6f88c9b-5142-41f4-aede-5b13e0d3345a",
   "metadata": {},
   "outputs": [],
   "source": [
    "def get_user_otp():\n",
    "    return input(\"Enter the OTP sent to your email: \")\n"
   ]
  },
  {
   "cell_type": "code",
   "execution_count": 7,
   "id": "368255cb-72cc-48b5-924d-9e22f2e2f6c5",
   "metadata": {},
   "outputs": [],
   "source": [
    "def verify_otp(generated_otp, entered_otp):\n",
    "    return generated_otp == entered_otp\n",
    "\n"
   ]
  },
  {
   "cell_type": "code",
   "execution_count": 8,
   "id": "0fa0ca11-160c-49b2-9523-9f56457dfb27",
   "metadata": {},
   "outputs": [
    {
     "name": "stdin",
     "output_type": "stream",
     "text": [
      "Enter your email address:  pragyanparamita1449@gmail.com\n"
     ]
    },
    {
     "name": "stdout",
     "output_type": "stream",
     "text": [
      "OTP sent successfully!\n"
     ]
    },
    {
     "name": "stdin",
     "output_type": "stream",
     "text": [
      "Enter the OTP sent to your email:  123456\n"
     ]
    },
    {
     "name": "stdout",
     "output_type": "stream",
     "text": [
      "Incorrect OTP. Please try again.\n"
     ]
    },
    {
     "name": "stdin",
     "output_type": "stream",
     "text": [
      "Enter the OTP sent to your email:  615865\n"
     ]
    },
    {
     "name": "stdout",
     "output_type": "stream",
     "text": [
      "Access granted!\n"
     ]
    }
   ],
   "source": [
    "def main():\n",
    "    email = input(\"Enter your email address: \")\n",
    "    generated_otp = generate_otp()\n",
    "    send_otp(email, generated_otp)\n",
    "    \n",
    "    for _ in range(3):\n",
    "        entered_otp = get_user_otp()\n",
    "        if verify_otp(generated_otp, entered_otp):\n",
    "            print(\"Access granted!\")\n",
    "            return\n",
    "        else:\n",
    "            print(\"Incorrect OTP. Please try again.\")\n",
    "\n",
    "    print(\"Access denied. Too many failed attempts.\")\n",
    "\n",
    "if __name__ == \"__main__\":\n",
    "    main()\n"
   ]
  },
  {
   "cell_type": "markdown",
   "id": "131cf2b0-37d5-447e-b8f2-98f4a076540f",
   "metadata": {},
   "source": []
  },
  {
   "cell_type": "code",
   "execution_count": null,
   "id": "a0ba7f2e-7719-4e53-8e25-8b374f5ddd0f",
   "metadata": {},
   "outputs": [],
   "source": []
  }
 ],
 "metadata": {
  "kernelspec": {
   "display_name": "Python 3 (ipykernel)",
   "language": "python",
   "name": "python3"
  },
  "language_info": {
   "codemirror_mode": {
    "name": "ipython",
    "version": 3
   },
   "file_extension": ".py",
   "mimetype": "text/x-python",
   "name": "python",
   "nbconvert_exporter": "python",
   "pygments_lexer": "ipython3",
   "version": "3.11.7"
  }
 },
 "nbformat": 4,
 "nbformat_minor": 5
}
